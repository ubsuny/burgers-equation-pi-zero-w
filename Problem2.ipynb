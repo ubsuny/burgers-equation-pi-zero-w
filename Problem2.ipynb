{
 "cells": [
  {
   "cell_type": "markdown",
   "metadata": {},
   "source": [
    "### Jeremy Kazimer\n",
    "#### 5018-1732\n",
    "#### Assignment #4"
   ]
  },
  {
   "cell_type": "markdown",
   "metadata": {},
   "source": [
    "---"
   ]
  },
  {
   "cell_type": "markdown",
   "metadata": {},
   "source": [
    "As always, our import statements:"
   ]
  },
  {
   "cell_type": "code",
   "execution_count": 5,
   "metadata": {},
   "outputs": [],
   "source": [
    "# Main assignment\n",
    "import tensorflow as tf\n",
    "from tensorflow.python.compiler.tensorrt import trt_convert as tr\n",
    "\n",
    "# General\n",
    "import numpy as np\n",
    "import scipy.io\n",
    "import time\n",
    "\n",
    "# Plotting\n",
    "import matplotlib.pyplot as plt"
   ]
  },
  {
   "cell_type": "markdown",
   "metadata": {},
   "source": [
    "Burger's Equation is a PDE and a particularly strange one at that.  Given by the equation\n",
    "\n",
    "\\begin{equation}\n",
    "u_t + uu_x - \\kappa u_{xx} = 0 \n",
    "\\end{equation}\n",
    "\n",
    "where $u$ is the field of the system, $u_t$ is the first partial derivative with respect to $t$ (time), $u_x$ is the first partial derivative with respect to $x$ (position), $\\kappa$ is the diffusion constant, and $u_{xx}$ is the second partial derivative with respect to $x$.  \n",
    "\n",
    "This poses a problem from the first question of the assignment because it was rather easily able to be made discrete.  That is to say, by the form\n",
    "\\begin{equation}\n",
    "u_{i + 1} = u_i + u_i' \\delta t\n",
    "\\end{equation}\n",
    "\n",
    "However, since that's not the case, we can solve this numerically via a neural net from [this paper](https://arxiv.org/pdf/1711.10561.pdf) and its [respective GitHub page](https://github.com/maziarraissi/PINNs).  Note that all of the neural net code is from this repository, but I've stripped it of its more technical features so that it more accurately reflect the plain goal here.  It would be rather difficult to build our own neural net from the ground up, but understanding their code there has made it easier to work from the top down."
   ]
  },
  {
   "cell_type": "markdown",
   "metadata": {},
   "source": [
    "First, we create a class from the neural network, which has been dubbed a 'Physics Informed Neural Network', or simply a neural network that's indicative of some physical process:"
   ]
  },
  {
   "cell_type": "code",
   "execution_count": 2,
   "metadata": {},
   "outputs": [],
   "source": [
    "class PhysicsInformedNN:\n",
    "    def __init__(self, x0, u0, layers, dt, q):\n",
    "        \n",
    "        '''\n",
    "            Initial conditions:\n",
    "            \n",
    "            lb -> the lower bound of the system.  We can set this arbitrarily to -1\n",
    "            ub -> the upper bound of the system.  We can set this arbitrarily to +1\n",
    "            x0 -> the starting x value.  Not arbitrary, but chosen at random\n",
    "            u0 -> the starting u value.  Not arbitrary, but chosen at random\n",
    "            layers -> the shape of each layer.\n",
    "            dt -> the time step.\n",
    "            q -> how many elements of the total data we take.\n",
    "        '''\n",
    "        \n",
    "        self.lb = -1\n",
    "        self.ub = 1\n",
    "        \n",
    "        self.x0 = x0\n",
    "        \n",
    "        self.u0 = u0\n",
    "        \n",
    "        self.layers = layers\n",
    "        self.dt = dt\n",
    "        self.q = q\n",
    "        \n",
    "        '''\n",
    "            Intialization.  This creates the layers\n",
    "            for the weights and biases.  This is what allows\n",
    "            for the neural network to 'learn', so to speak.\n",
    "            Without them, we would not be able to really\n",
    "            make this work.  This works only after activation.\n",
    "        '''\n",
    "        \n",
    "        # Initialize NN\n",
    "        self.weights, self.biases = self.initialize_NN(layers)     \n",
    "        \n",
    "        '''\n",
    "            Placeholder variables.  We create these so we have them\n",
    "            to start with.  They're later modified and used\n",
    "            appropriately for gradients and the like.\n",
    "        '''\n",
    "        \n",
    "        # Placeholder variables\n",
    "        self.sess = tf.Session(config=tf.ConfigProto(allow_soft_placement=True,\n",
    "                                                     log_device_placement=True))\n",
    "        \n",
    "        self.x0_tf = tf.placeholder(tf.float32, shape=(None, self.x0.shape[1]))\n",
    "        self.u0_tf = tf.placeholder(tf.float32, shape=(None, self.u0.shape[1]))\n",
    "        self.dummy_x0_tf = tf.placeholder(tf.float32, shape=(None, self.q))          \n",
    "        \n",
    "        '''\n",
    "            Here, we make a prediction for the base case\n",
    "            then take the difference between that and the\n",
    "            actual value so that we have a starting loss.\n",
    "            This allows for us to minimize!\n",
    "        '''\n",
    "        \n",
    "        self.U0_pred = self.net_U0(self.x0_tf) \n",
    "        \n",
    "        self.loss = tf.reduce_sum(tf.square(self.u0_tf - self.U0_pred))\n",
    "         \n",
    "        '''\n",
    "            This is what reduces loss and maximizes accuracy.\n",
    "            Consider that the method is the means by which loss is\n",
    "            minimized.  This is the same as the assignment from last semester.\n",
    "            \n",
    "            maxiter -> basically, break if you try to train more than this ammount.\n",
    "            maxfun -> basically, break if we need to use BFGS more than this amount.\n",
    "            ftol -> basically, break if our accuracy gets below this number, machine precision.\n",
    "            \n",
    "            The others I'm not sure about, so I can't say with confidence.\n",
    "        '''\n",
    "        \n",
    "        self.optimizer = tf.contrib.opt.ScipyOptimizerInterface(self.loss, \n",
    "                                                                method = 'L-BFGS-B', \n",
    "                                                                options = {'maxiter': 100,\n",
    "                                                                           'maxfun': 100,\n",
    "                                                                           'maxcor': 50,\n",
    "                                                                           'maxls': 50,\n",
    "                                                                           'ftol' : 1.0 * np.finfo(float).eps})        \n",
    "        \n",
    "        self.optimizer_Adam = tf.train.AdamOptimizer()\n",
    "        self.train_op_Adam = self.optimizer_Adam.minimize(self.loss)\n",
    "        \n",
    "        '''\n",
    "            We create an initializer and then start the\n",
    "            session with this intializer so that\n",
    "            we can begin calculations on it.\n",
    "        '''\n",
    "        \n",
    "        init = tf.global_variables_initializer()\n",
    "        self.sess.run(init)\n",
    "        \n",
    "        '''\n",
    "            Also storing this, for demonstration sake.\n",
    "        '''\n",
    "        \n",
    "        self.loss_array = []\n",
    "        self.time_array = []\n",
    "    \n",
    "    # Establish base layers for weights and biases.\n",
    "    def initialize_NN(self, layers):   \n",
    "        # Creating empty arrays to store\n",
    "        # the actual weights and biases\n",
    "        weights = []\n",
    "        biases = []\n",
    "        \n",
    "        num_layers = len(layers) \n",
    "        for l in range(0, num_layers - 1):\n",
    "            \n",
    "            # Here, we create weights with a truncated normal distribution.  \n",
    "            # So, each creation is random.  This allows us to handle the noise\n",
    "            # of the system, otherwise if everything was weighted 1 or 0 it wouldn't work.\n",
    "            W = self.xavier_init(size=[layers[l], layers[l+1]])\n",
    "            \n",
    "            # We set the biases to start as zeros, but this can be updated as time progresses.\n",
    "            b = tf.Variable(tf.zeros([1, layers[l+1]], dtype=tf.float32), dtype=tf.float32)\n",
    "            \n",
    "            weights.append(W)\n",
    "            biases.append(b)      \n",
    "            \n",
    "        return weights, biases\n",
    "    \n",
    "    # Generate random weights.\n",
    "    def xavier_init(self, size):\n",
    "        in_dim = size[0]\n",
    "        out_dim = size[1]\n",
    "        \n",
    "        # So our distribution exists around a certain\n",
    "        # average, but varies slightly.\n",
    "        xavier_stddev = np.sqrt(2/(in_dim + out_dim))\n",
    "        \n",
    "        # This returns a random distribution of this size with mean = 0, std = xavier_stddev.\n",
    "        # So all values exist around 0, but fluctuate by this std.\n",
    "        return tf.Variable(tf.truncated_normal([in_dim, out_dim], stddev=xavier_stddev), dtype=tf.float32)\n",
    "    \n",
    "    def neural_net(self, X, weights, biases):\n",
    "        num_layers = len(weights) + 1\n",
    "        \n",
    "        # This just changes the spacing of X so that it's\n",
    "        # more uniform to our standard.\n",
    "        H = 2.0*(X - self.lb)/(self.ub - self.lb) - 1.0\n",
    "        \n",
    "        # We iterate over all the layers, weights and biases included.\n",
    "        for l in range(0, num_layers - 2):\n",
    "            W = weights[l]\n",
    "            b = biases[l]\n",
    "            \n",
    "            # We have a 'tanh' activation.  It accumulates at each step.\n",
    "            H = tf.tanh(tf.add(tf.matmul(H, W), b))\n",
    "            \n",
    "        W = weights[-1]\n",
    "        b = biases[-1]\n",
    "        \n",
    "        # We repeat for the last layers, to decide \n",
    "        # whether our data has 'activated' or not.\n",
    "        # In neuron speak, whether this neuron has\n",
    "        # fired.\n",
    "        Y = tf.add(tf.matmul(H, W), b)\n",
    "        return Y\n",
    "    \n",
    "    # We calculate the gradients of a U0 vector.\n",
    "    def fwd_gradients_0(self, U, x):        \n",
    "        g = tf.gradients(U, x, grad_ys=self.dummy_x0_tf)[0]\n",
    "        return tf.gradients(g, self.dummy_x0_tf)[0]\n",
    "    \n",
    "    # This is just the equation as describe in the earlier part.\n",
    "    def net_U0(self, x):\n",
    "        U = self.neural_net(x, self.weights, self.biases)        \n",
    "        U_x = self.fwd_gradients_0(U, x)\n",
    "        U_xx = self.fwd_gradients_0(U_x, x)       \n",
    "        F = -1*U*U_x + 1*U_xx\n",
    "        U0 = U - self.dt*F\n",
    "        return U0\n",
    "    \n",
    "    # This is where we actually train the network to try and predict\n",
    "    # the field vectors! It does it for n times until it reaches the end.\n",
    "    def train(self, nIter):\n",
    "        \n",
    "        # Creating a dict of values to pass into training.\n",
    "        tf_dict = {self.x0_tf: self.x0, self.u0_tf: self.u0, \n",
    "                   self.dummy_x0_tf: np.ones((self.x0.shape[0], self.q))}\n",
    "        \n",
    "        \n",
    "        # Start iterating to train the network.\n",
    "        print('starting training...')\n",
    "        for it in range(nIter):\n",
    "            t0 = time.time()\n",
    "            \n",
    "            # Run the training.\n",
    "            self.sess.run(self.train_op_Adam, tf_dict)\n",
    "            \n",
    "            t1 = time.time()\n",
    "            # I'm storing loss and time taken here.\n",
    "            self.loss_array.append(self.sess.run(self.loss, tf_dict))\n",
    "            self.time_array.append(t1 - t0)\n",
    "            print('{:.2f}% done training!'.format(100*(it + 1)/nIter), '\\r', end = '')\n",
    "        \n",
    "        # We can reduce this loss further through optimization.\n",
    "        print('starting optimization...')\n",
    "        self.optimizer.minimize(self.sess,\n",
    "                                feed_dict = tf_dict,\n",
    "                                fetches = [self.loss])\n",
    "    \n",
    "    # Make a simple prediction with base data.\n",
    "    def predict(self, x_star):\n",
    "        \n",
    "        U0_star = self.sess.run(self.U0_pred, {self.x0_tf: x_star, self.dummy_x0_tf: np.ones((x_star.shape[0], self.q))})        \n",
    "                    \n",
    "        return U0_star "
   ]
  },
  {
   "cell_type": "markdown",
   "metadata": {},
   "source": [
    "Note that a lot of this code has been stripped away.  Before, there was the inclusion of constants from data files, a third partial derivative, and the like.  A lot of their functionality is designed to get the best result, but that's not really our goal, right? Our goal is to just numerically solve Burger's Equation with TensorFlow.  And so I did! The results from this can be seen below.  There are a lot of variables to keep track of, so I tried to describe them to the best of my ability with docstrings:"
   ]
  },
  {
   "cell_type": "code",
   "execution_count": 3,
   "metadata": {},
   "outputs": [
    {
     "name": "stderr",
     "output_type": "stream",
     "text": [
      "/home/pi/.local/lib/python3.7/site-packages/ipykernel_launcher.py:34: DeprecationWarning: `np.float` is a deprecated alias for the builtin `float`. To silence this warning, use `float` by itself. Doing this will not modify any behavior and is safe. If you specifically wanted the numpy scalar type, use `np.float64` here.\n",
      "Deprecated in NumPy 1.20; for more details and guidance: https://numpy.org/devdocs/release/1.20.0-notes.html#deprecations\n"
     ]
    }
   ],
   "source": [
    "'''\n",
    "Variables: \n",
    "q -> some initial condition that I'm not fully sure of.\n",
    "skip -> the number of indices to skip.  Increasing it speeds up the function at the cost of accuracy\n",
    "data -> data from the original author.  We need this for their u values.\n",
    "N0 -> grid size?\n",
    "layers -> the size of each layer, assuming square.\n",
    "t_star -> time data.\n",
    "x_star -> grid data.\n",
    "u_star -> initial u data.\n",
    "idx_t -> index corresponding to starting time.\n",
    "idx_x -> index corresponding to starting position.\n",
    "x0 -> random starting point in space.\n",
    "u0 -> random starting point in time-space.\n",
    "dt -> time step\n",
    "model -> the PINN.\n",
    "U0_pred -> testing our model with a prediction.\n",
    "nIter -> number of training iterations.\n",
    "'''\n",
    "\n",
    "data = scipy.io.loadmat('burger_data.mat')\n",
    "\n",
    "skip = 100\n",
    "q = 50\n",
    "N0 = 20\n",
    "layers = [1, 50, 50, 50, 50, q]\n",
    "t_star = data['tt'].flatten()[:,None]\n",
    "x_star = data['x'].flatten()[:,None]\n",
    "u_star = np.real(data['uu'])\n",
    "idx_t = 40\n",
    "idx_x = np.random.choice(u_star.shape[0], N0, replace = False)\n",
    "x0 = x_star[idx_x,:]\n",
    "u0 = u_star[idx_x, idx_t][:,None]\n",
    "dt = np.float(t_star[idx_t + skip] - t_star[idx_t])        \n",
    "nIter = 150  "
   ]
  },
  {
   "cell_type": "code",
   "execution_count": 6,
   "metadata": {},
   "outputs": [
    {
     "name": "stdout",
     "output_type": "stream",
     "text": [
      "Device mapping:\n",
      "\n"
     ]
    },
    {
     "ename": "ModuleNotFoundError",
     "evalue": "No module named 'tensorflow.contrib'",
     "output_type": "error",
     "traceback": [
      "\u001b[0;31m---------------------------------------------------------------------------\u001b[0m",
      "\u001b[0;31mModuleNotFoundError\u001b[0m                       Traceback (most recent call last)",
      "\u001b[0;32m<ipython-input-6-df2c18b7f9b7>\u001b[0m in \u001b[0;36m<module>\u001b[0;34m\u001b[0m\n\u001b[1;32m      1\u001b[0m \u001b[0;31m# Building the model\u001b[0m\u001b[0;34m\u001b[0m\u001b[0;34m\u001b[0m\u001b[0;34m\u001b[0m\u001b[0m\n\u001b[0;32m----> 2\u001b[0;31m \u001b[0mmodel\u001b[0m \u001b[0;34m=\u001b[0m \u001b[0mPhysicsInformedNN\u001b[0m\u001b[0;34m(\u001b[0m\u001b[0mx0\u001b[0m\u001b[0;34m,\u001b[0m \u001b[0mu0\u001b[0m\u001b[0;34m,\u001b[0m \u001b[0mlayers\u001b[0m\u001b[0;34m,\u001b[0m \u001b[0mdt\u001b[0m\u001b[0;34m,\u001b[0m \u001b[0mq\u001b[0m\u001b[0;34m)\u001b[0m\u001b[0;34m\u001b[0m\u001b[0;34m\u001b[0m\u001b[0m\n\u001b[0m\u001b[1;32m      3\u001b[0m \u001b[0mmodel\u001b[0m\u001b[0;34m.\u001b[0m\u001b[0mtrain\u001b[0m\u001b[0;34m(\u001b[0m\u001b[0mnIter\u001b[0m \u001b[0;34m=\u001b[0m \u001b[0mnIter\u001b[0m\u001b[0;34m)\u001b[0m\u001b[0;34m\u001b[0m\u001b[0;34m\u001b[0m\u001b[0m\n\u001b[1;32m      4\u001b[0m \u001b[0;34m\u001b[0m\u001b[0m\n\u001b[1;32m      5\u001b[0m \u001b[0;31m# Testing our model\u001b[0m\u001b[0;34m\u001b[0m\u001b[0;34m\u001b[0m\u001b[0;34m\u001b[0m\u001b[0m\n",
      "\u001b[0;32m<ipython-input-2-2978549f9c2c>\u001b[0m in \u001b[0;36m__init__\u001b[0;34m(self, x0, u0, layers, dt, q)\u001b[0m\n\u001b[1;32m     73\u001b[0m         '''\n\u001b[1;32m     74\u001b[0m \u001b[0;34m\u001b[0m\u001b[0m\n\u001b[0;32m---> 75\u001b[0;31m         self.optimizer = tf.contrib.opt.ScipyOptimizerInterface(self.loss, \n\u001b[0m\u001b[1;32m     76\u001b[0m                                                                 \u001b[0mmethod\u001b[0m \u001b[0;34m=\u001b[0m \u001b[0;34m'L-BFGS-B'\u001b[0m\u001b[0;34m,\u001b[0m\u001b[0;34m\u001b[0m\u001b[0;34m\u001b[0m\u001b[0m\n\u001b[1;32m     77\u001b[0m                                                                 options = {'maxiter': 100,\n",
      "\u001b[0;32m~/venv/lib/python3.7/site-packages/tensorflow_core/python/util/lazy_loader.py\u001b[0m in \u001b[0;36m__getattr__\u001b[0;34m(self, item)\u001b[0m\n\u001b[1;32m     60\u001b[0m \u001b[0;34m\u001b[0m\u001b[0m\n\u001b[1;32m     61\u001b[0m   \u001b[0;32mdef\u001b[0m \u001b[0m__getattr__\u001b[0m\u001b[0;34m(\u001b[0m\u001b[0mself\u001b[0m\u001b[0;34m,\u001b[0m \u001b[0mitem\u001b[0m\u001b[0;34m)\u001b[0m\u001b[0;34m:\u001b[0m\u001b[0;34m\u001b[0m\u001b[0;34m\u001b[0m\u001b[0m\n\u001b[0;32m---> 62\u001b[0;31m     \u001b[0mmodule\u001b[0m \u001b[0;34m=\u001b[0m \u001b[0mself\u001b[0m\u001b[0;34m.\u001b[0m\u001b[0m_load\u001b[0m\u001b[0;34m(\u001b[0m\u001b[0;34m)\u001b[0m\u001b[0;34m\u001b[0m\u001b[0;34m\u001b[0m\u001b[0m\n\u001b[0m\u001b[1;32m     63\u001b[0m     \u001b[0;32mreturn\u001b[0m \u001b[0mgetattr\u001b[0m\u001b[0;34m(\u001b[0m\u001b[0mmodule\u001b[0m\u001b[0;34m,\u001b[0m \u001b[0mitem\u001b[0m\u001b[0;34m)\u001b[0m\u001b[0;34m\u001b[0m\u001b[0;34m\u001b[0m\u001b[0m\n\u001b[1;32m     64\u001b[0m \u001b[0;34m\u001b[0m\u001b[0m\n",
      "\u001b[0;32m~/venv/lib/python3.7/site-packages/tensorflow_core/python/util/lazy_loader.py\u001b[0m in \u001b[0;36m_load\u001b[0;34m(self)\u001b[0m\n\u001b[1;32m     43\u001b[0m     \u001b[0;34m\"\"\"Load the module and insert it into the parent's globals.\"\"\"\u001b[0m\u001b[0;34m\u001b[0m\u001b[0;34m\u001b[0m\u001b[0m\n\u001b[1;32m     44\u001b[0m     \u001b[0;31m# Import the target module and insert it into the parent's namespace\u001b[0m\u001b[0;34m\u001b[0m\u001b[0;34m\u001b[0m\u001b[0;34m\u001b[0m\u001b[0m\n\u001b[0;32m---> 45\u001b[0;31m     \u001b[0mmodule\u001b[0m \u001b[0;34m=\u001b[0m \u001b[0mimportlib\u001b[0m\u001b[0;34m.\u001b[0m\u001b[0mimport_module\u001b[0m\u001b[0;34m(\u001b[0m\u001b[0mself\u001b[0m\u001b[0;34m.\u001b[0m\u001b[0m__name__\u001b[0m\u001b[0;34m)\u001b[0m\u001b[0;34m\u001b[0m\u001b[0;34m\u001b[0m\u001b[0m\n\u001b[0m\u001b[1;32m     46\u001b[0m     \u001b[0mself\u001b[0m\u001b[0;34m.\u001b[0m\u001b[0m_parent_module_globals\u001b[0m\u001b[0;34m[\u001b[0m\u001b[0mself\u001b[0m\u001b[0;34m.\u001b[0m\u001b[0m_local_name\u001b[0m\u001b[0;34m]\u001b[0m \u001b[0;34m=\u001b[0m \u001b[0mmodule\u001b[0m\u001b[0;34m\u001b[0m\u001b[0;34m\u001b[0m\u001b[0m\n\u001b[1;32m     47\u001b[0m \u001b[0;34m\u001b[0m\u001b[0m\n",
      "\u001b[0;32m~/venv/lib/python3.7/importlib/__init__.py\u001b[0m in \u001b[0;36mimport_module\u001b[0;34m(name, package)\u001b[0m\n\u001b[1;32m    125\u001b[0m                 \u001b[0;32mbreak\u001b[0m\u001b[0;34m\u001b[0m\u001b[0;34m\u001b[0m\u001b[0m\n\u001b[1;32m    126\u001b[0m             \u001b[0mlevel\u001b[0m \u001b[0;34m+=\u001b[0m \u001b[0;36m1\u001b[0m\u001b[0;34m\u001b[0m\u001b[0;34m\u001b[0m\u001b[0m\n\u001b[0;32m--> 127\u001b[0;31m     \u001b[0;32mreturn\u001b[0m \u001b[0m_bootstrap\u001b[0m\u001b[0;34m.\u001b[0m\u001b[0m_gcd_import\u001b[0m\u001b[0;34m(\u001b[0m\u001b[0mname\u001b[0m\u001b[0;34m[\u001b[0m\u001b[0mlevel\u001b[0m\u001b[0;34m:\u001b[0m\u001b[0;34m]\u001b[0m\u001b[0;34m,\u001b[0m \u001b[0mpackage\u001b[0m\u001b[0;34m,\u001b[0m \u001b[0mlevel\u001b[0m\u001b[0;34m)\u001b[0m\u001b[0;34m\u001b[0m\u001b[0;34m\u001b[0m\u001b[0m\n\u001b[0m\u001b[1;32m    128\u001b[0m \u001b[0;34m\u001b[0m\u001b[0m\n\u001b[1;32m    129\u001b[0m \u001b[0;34m\u001b[0m\u001b[0m\n",
      "\u001b[0;32m~/venv/lib/python3.7/importlib/_bootstrap.py\u001b[0m in \u001b[0;36m_gcd_import\u001b[0;34m(name, package, level)\u001b[0m\n",
      "\u001b[0;32m~/venv/lib/python3.7/importlib/_bootstrap.py\u001b[0m in \u001b[0;36m_find_and_load\u001b[0;34m(name, import_)\u001b[0m\n",
      "\u001b[0;32m~/venv/lib/python3.7/importlib/_bootstrap.py\u001b[0m in \u001b[0;36m_find_and_load_unlocked\u001b[0;34m(name, import_)\u001b[0m\n",
      "\u001b[0;31mModuleNotFoundError\u001b[0m: No module named 'tensorflow.contrib'"
     ]
    }
   ],
   "source": [
    "# Building the model\n",
    "model = PhysicsInformedNN(x0, u0, layers, dt, q)\n",
    "model.train(nIter = nIter)\n",
    "\n",
    "# Testing our model\n",
    "U0_pred = model.predict(x_star)  "
   ]
  },
  {
   "cell_type": "markdown",
   "metadata": {},
   "source": [
    "Great! Our code is accurate, despite the changes we made to the system.  You love to see it.  Regardless, we can plot a few other things.  Namely, important to the Pi Zero, the average runtimes for the most computationally expensive part of the run, the training:"
   ]
  },
  {
   "cell_type": "code",
   "execution_count": 7,
   "metadata": {},
   "outputs": [
    {
     "data": {
      "text/plain": [
       "'1.14.0'"
      ]
     },
     "execution_count": 7,
     "metadata": {},
     "output_type": "execute_result"
    }
   ],
   "source": [
    "tf.__version__"
   ]
  },
  {
   "cell_type": "code",
   "execution_count": 83,
   "metadata": {},
   "outputs": [
    {
     "data": {
      "image/png": "[encoded data removed]",
      "text/plain": [
       "<Figure size 432x288 with 1 Axes>"
      ]
     },
     "metadata": {
      "needs_background": "light"
     },
     "output_type": "display_data"
    }
   ],
   "source": [
    "fig, ax = plt.subplots(1, 1)\n",
    "\n",
    "# We skip the first element because that's like a 'start-up' time and is much greater than the rest.\n",
    "ax.hist(model.time_array[1:], 25, color = 'maroon');\n",
    "\n",
    "ax.set_ylabel('counts', fontsize = 14)\n",
    "ax.set_xlabel('runtime per iteration', fontsize = 14)\n",
    "\n",
    "fig.tight_layout();"
   ]
  },
  {
   "cell_type": "markdown",
   "metadata": {},
   "source": [
    "We see that the overall runtime is pretty fast, to be fair.  At least, faster than expected.  We can see that this is vaguely"
   ]
  },
  {
   "cell_type": "code",
   "execution_count": 80,
   "metadata": {},
   "outputs": [
    {
     "name": "stdout",
     "output_type": "stream",
     "text": [
      "average runtime: t = 0.00256 pm 0.00004 seconds\n"
     ]
    }
   ],
   "source": [
    "print('average runtime: t = {:.5f} pm {:.5f} seconds'.format(np.mean(model.time_array[1:]), \n",
    "                                                             np.std(model.time_array[1:])/np.sqrt(len(model.time_array[1:]))))"
   ]
  },
  {
   "cell_type": "markdown",
   "metadata": {},
   "source": [
    "We can also look at the loss function over each iteration to show that perhaps their original amount was reaching the saturation point.  That is to say, the point by which iteration has nearly a zero reduction in loss:"
   ]
  },
  {
   "cell_type": "code",
   "execution_count": 90,
   "metadata": {},
   "outputs": [
    {
     "data": {
      "image/png": "[encoded data removed]",
      "text/plain": [
       "<Figure size 432x288 with 1 Axes>"
      ]
     },
     "metadata": {
      "needs_background": "light"
     },
     "output_type": "display_data"
    }
   ],
   "source": [
    "fig, ax = plt.subplots(1, 1)\n",
    "\n",
    "# We skip the first element because that's like a 'start-up' time and is much greater than the rest.\n",
    "ax.plot(np.arange(nIter) + 1, model.loss_array, color = 'navy');\n",
    "\n",
    "ax.set_ylabel('loss', fontsize = 14)\n",
    "ax.set_xlabel('iteration', fontsize = 14)\n",
    "\n",
    "ax.set_xlim(1, nIter)\n",
    "\n",
    "fig.tight_layout();"
   ]
  },
  {
   "cell_type": "markdown",
   "metadata": {},
   "source": [
    "So, this just means perhaps we don't need as many iterations to cap out on our training model.  Of course, this doesn't translate to predicting on real data, which still has good loss, but it still shows that when optimizing something like this for the Pi Zero W that we can reduce the parameters as much as desired!"
   ]
  },
  {
   "cell_type": "markdown",
   "metadata": {},
   "source": [
    "_Conclusion_"
   ]
  },
  {
   "cell_type": "markdown",
   "metadata": {},
   "source": [
    "I think that this assignment was mostly fair.  I would say that Problem 2 was the least fair and perhaps I only understand it somewhat thoroughly because I've experienced machine learning before.  Other than that, the big hassle here is just getting TensorFlow to run on the device, which will be a barrier for many in the future.  I can't even complain about the Pi Zero W here, since most of the limitations I've known for at least a week now."
   ]
  }
 ],
 "metadata": {
  "kernelspec": {
   "display_name": "venv",
   "language": "python",
   "name": "venv"
  },
  "language_info": {
   "codemirror_mode": {
    "name": "ipython",
    "version": 3
   },
   "file_extension": ".py",
   "mimetype": "text/x-python",
   "name": "python",
   "nbconvert_exporter": "python",
   "pygments_lexer": "ipython3",
   "version": "3.7.3"
  }
 },
 "nbformat": 4,
 "nbformat_minor": 4
}
