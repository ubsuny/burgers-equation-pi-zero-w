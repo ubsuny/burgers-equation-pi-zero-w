{
 "cells": [
  {
   "cell_type": "markdown",
   "metadata": {},
   "source": [
    "### Jeremy Kazimer\n",
    "#### 5018-1732\n",
    "#### Assignment #4"
   ]
  },
  {
   "cell_type": "markdown",
   "metadata": {},
   "source": [
    "---"
   ]
  },
  {
   "cell_type": "markdown",
   "metadata": {},
   "source": [
    "As always, the import statements should be at the top of the code!"
   ]
  },
  {
   "cell_type": "code",
   "execution_count": 1,
   "metadata": {},
   "outputs": [],
   "source": [
    "import matplotlib.pyplot as plt\n",
    "import tensorflow as tf\n",
    "import numpy as np\n",
    "import time"
   ]
  },
  {
   "cell_type": "markdown",
   "metadata": {},
   "source": [
    "In this part of the assignment, we can recreate the previous assignment, that is to say the wave function, but this time by solving it via TensorFlow.  The equations are still the same, but now we must adjust all of our inputs such that they follow the TensorFlow formula.  Namely,"
   ]
  },
  {
   "cell_type": "code",
   "execution_count": 2,
   "metadata": {},
   "outputs": [],
   "source": [
    "def make_kernel(a):\n",
    "    \n",
    "    \"\"\"Transform a 2D array into a convolution kernel\"\"\"\n",
    "    \n",
    "    a = np.asarray(a)\n",
    "    a = a.reshape(list(a.shape) + [1,1])\n",
    "    \n",
    "    return tf.constant(a, dtype=1)\n",
    "\n",
    "def simple_conv(x, k):\n",
    "    \n",
    "    \"\"\"A simplified 2D convolution operation\"\"\"\n",
    "    \n",
    "    x = tf.expand_dims(tf.expand_dims(x, 0), -1)\n",
    "    y = tf.nn.depthwise_conv2d(x, k, [1, 1, 1, 1], padding='SAME')\n",
    "    \n",
    "    return y[0, :, :, 0]"
   ]
  },
  {
   "cell_type": "markdown",
   "metadata": {},
   "source": [
    "where this code comes from the CompPhys repository [here](https://github.com/ubsuny/CompPhys/blob/PDEupdate/PDEs/CNN-PDE.ipynb).  All code from this point on will as well, unless otherwise specified.  We can then apply this to the Laplace and its isotropic equivalent:"
   ]
  },
  {
   "cell_type": "code",
   "execution_count": 3,
   "metadata": {},
   "outputs": [],
   "source": [
    "def laplace_iso(x):\n",
    "    \n",
    "    \"\"\"Compute the 2D Laplacian of an array\"\"\"\n",
    "    \n",
    "    laplace_k = make_kernel([[0.25, 0.5, 0.25],\n",
    "                           [0.5, -3., 0.5],\n",
    "                           [0.25, 0.5, 0.25]])\n",
    "    \n",
    "    return simple_conv(x, laplace_k)\n",
    "\n",
    "def laplace(x):\n",
    "    \n",
    "    \"\"\"Compute the 2D Laplacian of an array\"\"\"\n",
    "    \n",
    "    laplace_k = make_kernel([[0., 1., 0.],\n",
    "                           [1., -4., 1.],\n",
    "                           [0., 1., 0.]])\n",
    "    \n",
    "    return simple_conv(x, laplace_k)"
   ]
  },
  {
   "cell_type": "markdown",
   "metadata": {},
   "source": [
    "Note that $L$ is fixed here, which is fine.  Since the purpose of this experiment is to more-so observe runtimes, we don't have to vary it.  Now, with the base functions implemented, we can look to the actual TensorFlow implementation!"
   ]
  },
  {
   "cell_type": "code",
   "execution_count": 4,
   "metadata": {},
   "outputs": [],
   "source": [
    "session = tf.InteractiveSession()\n",
    "tf.compat.v1.disable_eager_execution()"
   ]
  },
  {
   "cell_type": "markdown",
   "metadata": {},
   "source": [
    "Eager execution normally means that things are calculated as they come up...this is great for TensorFlow 2.0 and onwards, but not so much 1.14, which is what the Pi Zero W runs on.  As such, we disable it so that it doesn't interfere.  We must also declare our initial conditions from earlier:"
   ]
  },
  {
   "cell_type": "code",
   "execution_count": 5,
   "metadata": {},
   "outputs": [],
   "source": [
    "N = 500\n",
    "\n",
    "u_init = np.zeros([N, N], dtype = np.float32)\n",
    "ut_init = np.zeros([N, N], dtype = np.float32)\n",
    "\n",
    "u_init[N//2, N//2] = 10"
   ]
  },
  {
   "cell_type": "markdown",
   "metadata": {},
   "source": [
    "And now we can create TensorFlow variables! These act very similarly to SymPy, but with far more shorthand."
   ]
  },
  {
   "cell_type": "code",
   "execution_count": 6,
   "metadata": {},
   "outputs": [],
   "source": [
    "'''\n",
    "    eps -> a constant.  In perturbation theory, this is the perturbation parameter.  It applies here as well,\n",
    "    since it determines how much the original equation is offset by the delta.\n",
    "    \n",
    "    damping -> a constant, representing the system damping.  This prevents the system from growing much faster.\n",
    "    \n",
    "    c -> This is the speed of light, but for a toy model it's rather arbitrary.\n",
    "'''\n",
    "\n",
    "eps = tf.placeholder(tf.float32, shape=())\n",
    "damping = tf.placeholder(tf.float32, shape=())\n",
    "c = tf.placeholder(tf.float32, shape=())\n",
    "\n",
    "U  = tf.Variable(u_init)\n",
    "Ut = tf.Variable(ut_init)"
   ]
  },
  {
   "cell_type": "markdown",
   "metadata": {},
   "source": [
    "We can now create our equivalent functions, from earlier:"
   ]
  },
  {
   "cell_type": "code",
   "execution_count": 7,
   "metadata": {},
   "outputs": [],
   "source": [
    "U_ = U + eps * Ut\n",
    "Ut_ = Ut + eps * ((c ** 2) * laplace(U) - damping * Ut)"
   ]
  },
  {
   "cell_type": "code",
   "execution_count": 8,
   "metadata": {},
   "outputs": [],
   "source": [
    "step = tf.group(\n",
    "    U.assign(U_),\n",
    "    Ut.assign(Ut_))"
   ]
  },
  {
   "cell_type": "code",
   "execution_count": 9,
   "metadata": {},
   "outputs": [],
   "source": [
    "tf.global_variables_initializer().run()"
   ]
  },
  {
   "cell_type": "markdown",
   "metadata": {},
   "source": [
    "Note that the `tf.group()` functions forces both values `U` and `Ut` to be updated at the same time.  We can now run this for $1000$ steps, and time each iteration:"
   ]
  },
  {
   "cell_type": "code",
   "execution_count": 10,
   "metadata": {},
   "outputs": [
    {
     "name": "stdout",
     "output_type": "stream",
     "text": [
      "100.00% done! \r"
     ]
    }
   ],
   "source": [
    "nsteps = 1000\n",
    "ts = np.zeros((nsteps))\n",
    "\n",
    "for n in range(nsteps):\n",
    "    t0 = time.time()\n",
    "    \n",
    "    step.run({eps: 0.03, damping: 0.04, c: 3.0})\n",
    "    \n",
    "    t1 = time.time()\n",
    "    ts[n] = t1 - t0\n",
    "    print('{:.2f}% done!'.format(100*(n + 1)/nsteps), '\\r', end = '')"
   ]
  },
  {
   "cell_type": "markdown",
   "metadata": {},
   "source": [
    "And a plot:"
   ]
  },
  {
   "cell_type": "code",
   "execution_count": 11,
   "metadata": {},
   "outputs": [
    {
     "data": {
      "image/png": "[encoded data removed]",
      "text/plain": [
       "<Figure size 864x288 with 1 Axes>"
      ]
     },
     "metadata": {
      "needs_background": "light"
     },
     "output_type": "display_data"
    }
   ],
   "source": [
    "fig, ax = plt.subplots(1, 1, figsize = (12, 4))\n",
    "\n",
    "ax.hist(ts, 10, color = 'navy')\n",
    "\n",
    "ax.set_ylabel('counts', fontsize = 14)\n",
    "ax.set_xlabel('computation time, $t$', fontsize = 14)\n",
    "\n",
    "fig.tight_layout()"
   ]
  },
  {
   "cell_type": "code",
   "execution_count": 12,
   "metadata": {},
   "outputs": [],
   "source": [
    "t_avg = np.average(ts)\n",
    "t_err = np.std(ts)/np.sqrt(nsteps)"
   ]
  },
  {
   "cell_type": "code",
   "execution_count": 13,
   "metadata": {},
   "outputs": [
    {
     "name": "stdout",
     "output_type": "stream",
     "text": [
      "average runtime per iteration: 0.54281 pm 0.00322 seconds\n"
     ]
    }
   ],
   "source": [
    "print('average runtime per iteration: {:.5f} pm {:.5f} seconds'.format(t_avg, t_err))"
   ]
  },
  {
   "cell_type": "markdown",
   "metadata": {},
   "source": [
    "Really, besides the actual variable updating, the main computational contribution comes from re-calculating the convolution at each step since matrix multiplication is not an inexpensive process.  I know that NumPy has it down to nearly $\\mathcal{O}(N^3)$, but that's still horrendous.  It is that `nn.depthwise_conv2d()` function that is taking all of the time.  \n",
    "\n",
    "Otherwise, the original Notebook had a lot of display utilities.  Creating a graph is not an expensive process, and one that updates no less:"
   ]
  },
  {
   "cell_type": "code",
   "execution_count": 14,
   "metadata": {},
   "outputs": [],
   "source": [
    "t0 = time.time()\n",
    "\n",
    "fig, ax = plt.subplots(1, 1, figsize = (12, 4))\n",
    "\n",
    "ax.hist(ts, 10, color = 'navy')\n",
    "\n",
    "ax.set_ylabel('counts', fontsize = 14)\n",
    "ax.set_xlabel('computation time, $t$', fontsize = 14)\n",
    "\n",
    "fig.tight_layout()\n",
    "plt.close()\n",
    "\n",
    "t1 = time.time()"
   ]
  },
  {
   "cell_type": "markdown",
   "metadata": {},
   "source": [
    "Without expending the Pi's resources, we can just look at one case and see that..."
   ]
  },
  {
   "cell_type": "code",
   "execution_count": 15,
   "metadata": {},
   "outputs": [
    {
     "name": "stdout",
     "output_type": "stream",
     "text": [
      "plotting time: 2.61495 seconds\n"
     ]
    }
   ],
   "source": [
    "print('plotting time: {:.5f} seconds'.format(t1 - t0))"
   ]
  },
  {
   "cell_type": "markdown",
   "metadata": {},
   "source": [
    "This is 4-5 times as long as doing the actual computation per iteration...interesting.  Of course, more practically you would plot the end behavior, so you wouldn't be making, well, 1000 plots.  But for demonstrative purposes, that is a lot of graphs being made.  Since the runtime for each should be practically the same since no conditions are changing, this would be"
   ]
  },
  {
   "cell_type": "code",
   "execution_count": 16,
   "metadata": {},
   "outputs": [
    {
     "name": "stdout",
     "output_type": "stream",
     "text": [
      "plotting time: 2614.95256 seconds\n"
     ]
    }
   ],
   "source": [
    "print('plotting time: {:.5f} seconds'.format(nsteps*(t1 - t0)))"
   ]
  },
  {
   "cell_type": "markdown",
   "metadata": {},
   "source": [
    "So, by removing the active display I actually saved myself a bit of time! Perhaps doing `expand_dims()` twice will contribute to the runtime significantly as well, since this is expanding a two dimensional array, twice.  Note that extending a 2D array at its worse time case will be $\\mathcal{O}(N^2)$, as [defined here](https://www.geeksforgeeks.org/append-extend-python/) for a 1-D array, which is still not as worse as the matrix multiplication.  Either way, the Pi Zero W is still terrible."
   ]
  },
  {
   "cell_type": "markdown",
   "metadata": {},
   "source": [
    "---"
   ]
  }
 ],
 "metadata": {
  "kernelspec": {
   "display_name": "venv",
   "language": "python",
   "name": "venv"
  },
  "language_info": {
   "codemirror_mode": {
    "name": "ipython",
    "version": 3
   },
   "file_extension": ".py",
   "mimetype": "text/x-python",
   "name": "python",
   "nbconvert_exporter": "python",
   "pygments_lexer": "ipython3",
   "version": "3.7.3"
  }
 },
 "nbformat": 4,
 "nbformat_minor": 4
}
